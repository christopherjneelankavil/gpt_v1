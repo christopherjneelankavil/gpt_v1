{
  "nbformat": 4,
  "nbformat_minor": 0,
  "metadata": {
    "colab": {
      "provenance": [],
      "gpuType": "T4",
      "authorship_tag": "ABX9TyP8aN2iNXum09aeUr2OgxgD",
      "include_colab_link": true
    },
    "kernelspec": {
      "name": "python3",
      "display_name": "Python 3"
    },
    "language_info": {
      "name": "python"
    },
    "accelerator": "GPU"
  },
  "cells": [
    {
      "cell_type": "markdown",
      "metadata": {
        "id": "view-in-github",
        "colab_type": "text"
      },
      "source": [
        "<a href=\"https://colab.research.google.com/github/christopherjneelankavil/gpt_v1/blob/main/gpt_v1.ipynb\" target=\"_parent\"><img src=\"https://colab.research.google.com/assets/colab-badge.svg\" alt=\"Open In Colab\"/></a>"
      ]
    },
    {
      "cell_type": "code",
      "execution_count": 1,
      "metadata": {
        "id": "wjnY_d4xm3u7"
      },
      "outputs": [],
      "source": [
        "import torch\n",
        "import torch.nn as nn\n",
        "from torch.nn import functional as F\n",
        "\n",
        "device = 'cuda' if torch.cuda.is_available() else 'cpu'\n",
        "\n",
        "block_size = 64\n",
        "batch_size = 128\n",
        "max_iters = 3000\n",
        "learing_rate = 3e-4\n",
        "eval_iters = 100\n",
        "eval_interval = 500\n",
        "n_embd = 384\n",
        "n_head = 8\n",
        "n_layer = 8\n",
        "dropout = 0.2"
      ]
    },
    {
      "cell_type": "code",
      "source": [
        "chars = \"\"\n",
        "\n",
        "with open('/content/wizard_of_oz.txt' ,'r', encoding = 'utf-8') as f:\n",
        "  text = f.read()\n",
        "  chars = sorted(set(text))\n",
        "vocab_size = len(chars)"
      ],
      "metadata": {
        "id": "F-ZHIAogLKD3"
      },
      "execution_count": 2,
      "outputs": []
    },
    {
      "cell_type": "code",
      "source": [
        "string_to_int = {ch : i for i,ch in enumerate(chars)}\n",
        "int_to_string = {i : ch for i,ch in enumerate(chars)}\n",
        "\n",
        "encode = lambda s : [string_to_int[c] for c in s]\n",
        "decode = lambda l : ''.join([int_to_string[i] for i in l])\n",
        "\n",
        "data = torch.tensor(encode(text), dtype = torch.long)"
      ],
      "metadata": {
        "id": "rn-Eh7lxLdgo"
      },
      "execution_count": 3,
      "outputs": []
    },
    {
      "cell_type": "code",
      "source": [
        "# train and val split\n",
        "\n",
        "n = int(0.8 * len(data))\n",
        "\n",
        "train_data = data[:n]\n",
        "val_data = data[n:]\n",
        "\n",
        "def get_batch(split):\n",
        "    data = train_data if split == 'train' else val_data\n",
        "\n",
        "    ix = torch.randint(len(data) - block_size, (batch_size,))\n",
        "\n",
        "    x = torch.stack([data[i:i+block_size] for i in ix])\n",
        "    y = torch.stack([data[i+1: i + block_size + 1] for i in ix])\n",
        "\n",
        "    x, y = x.to(device), y.to(device)\n",
        "    return x, y"
      ],
      "metadata": {
        "id": "pgiSvi1JNFWA"
      },
      "execution_count": 4,
      "outputs": []
    },
    {
      "cell_type": "code",
      "source": [
        "# estimate loss\n",
        "\n",
        "@torch.no_grad()\n",
        "def estimate_loss():\n",
        "    out = {}\n",
        "    model.eval()\n",
        "    for split in ['train', 'val']:\n",
        "        losses = torch.zeros(eval_iters)\n",
        "        for k in range(eval_iters):\n",
        "            X, Y = get_batch(split)\n",
        "            logits, loss = model(X, Y)\n",
        "            losses[k] = loss.item()\n",
        "        out[split] = losses.mean()\n",
        "    model.train()\n",
        "    return out"
      ],
      "metadata": {
        "id": "zfPyeSayOIVY"
      },
      "execution_count": 5,
      "outputs": []
    },
    {
      "cell_type": "code",
      "source": [
        "class Head(nn.Module):\n",
        "    def __init__(self, head_size):\n",
        "        super().__init__()\n",
        "        self.key = nn.Linear(n_embd, head_size, bias = False)\n",
        "        self.query = nn.Linear(n_embd, head_size, bias = False)\n",
        "        self.value = nn.Linear(n_embd, head_size, bias = False)\n",
        "        self.register_buffer('tril', torch.tril(torch.ones(block_size, block_size)))\n",
        "\n",
        "        self.dropout = nn.Dropout(dropout)\n",
        "\n",
        "    def forward(self, x):\n",
        "        B, T, C = x.shape\n",
        "        k = self.key(x)\n",
        "        q = self.query(x)\n",
        "\n",
        "        wei = q @ k.transpose(-2, -1) * k.shape[-1]**-0.5\n",
        "        wei = wei.masked_fill(self.tril[:T, :T] == 0, float('-inf'))\n",
        "        wei = F.softmax(wei, dim = -1)\n",
        "        wei = self.dropout(wei)\n",
        "\n",
        "        v = self.value(x)\n",
        "        out = wei @ v\n",
        "\n",
        "        return out\n",
        "\n",
        "\n",
        "class MultiHeadAttention(nn.Module):\n",
        "    def __init__(self, num_heads, head_size):\n",
        "        super().__init__()\n",
        "        self.heads = nn.ModuleList([Head(head_size) for _ in range(num_heads)])\n",
        "        self.proj = nn.Linear(head_size * num_heads, n_embd)\n",
        "        self.dropout = nn.Dropout(dropout)\n",
        "\n",
        "    def forward(self, x):\n",
        "        out = torch.cat([h(x) for h in self.heads], dim = -1)\n",
        "        out = self.dropout(self.proj(out))\n",
        "        return out\n",
        "\n",
        "class FeedForward(nn.Module):\n",
        "    def __init__(self, n_embd):\n",
        "        super().__init__()\n",
        "        self.net = nn.Sequential(\n",
        "            nn.Linear(n_embd, 4 * n_embd),\n",
        "            nn.ReLU(),\n",
        "            nn.Linear(4 * n_embd, n_embd),\n",
        "            nn.Dropout(dropout)\n",
        "        )\n",
        "    def forward(self, x):\n",
        "        return self.net(x)\n",
        "\n",
        "class Block(nn.Module):\n",
        "    def __init__(self, n_embd, n_head, block_size):\n",
        "        super().__init__()\n",
        "        head_size = n_embd // n_head\n",
        "        self.sa = MultiHeadAttention(n_head, head_size)\n",
        "        self.ffwd = FeedForward(n_embd)\n",
        "        self.ln1 = nn.LayerNorm(n_embd)\n",
        "        self.ln2 = nn.LayerNorm(n_embd)\n",
        "    def forward(self, x):\n",
        "        y = self.sa(x)\n",
        "        x = self.ln1(x + y)\n",
        "        y = self.ffwd(x)\n",
        "        x = self.ln2(x + y)\n",
        "        return x\n",
        "\n",
        "class GPTLanguageModel(nn.Module):\n",
        "    def __init__(self, vocab_size):\n",
        "        super().__init__()\n",
        "        self.token_embedding_table = nn.Embedding(vocab_size, n_embd)\n",
        "        self.position_embedding_table = nn.Embedding(block_size, n_embd)\n",
        "\n",
        "        self.blocks = nn.Sequential(*[Block(n_embd, n_head = 4, block_size = block_size) for _ in range(4)])\n",
        "        self.ln_f = nn.LayerNorm(n_embd)\n",
        "        self.lm_head = nn.Linear(n_embd, vocab_size)\n",
        "\n",
        "        self.apply(self._init_weights)\n",
        "\n",
        "    def _init_weights(self, module):\n",
        "        if isinstance(module, nn.Linear):\n",
        "            torch.nn.init.normal_(module.weight, mean = 0.0, std = 0.02)\n",
        "            if module.bias is not None:\n",
        "                torch.nn.init.zeros_(module.bias)\n",
        "        elif isinstance(module, nn.Embedding):\n",
        "            torch.nn.init.normal_(module.weight, mean = 0.0, std = 0.02)\n",
        "\n",
        "    def forward(self, index, targets = None):\n",
        "        B, T = index.shape\n",
        "\n",
        "        tok_emb = self.token_embedding_table(index)\n",
        "        pos_emb = self.position_embedding_table(torch.arange(T, device = device))\n",
        "        x = tok_emb + pos_emb\n",
        "        x = self.blocks(x)\n",
        "        x = self.ln_f(x)\n",
        "        logits = self.lm_head(x)\n",
        "\n",
        "        if targets is None:\n",
        "            loss = None\n",
        "        else:\n",
        "            logits = logits.view(B*T, self.lm_head.out_features)\n",
        "            targets = targets.view(B*T)\n",
        "            loss = F.cross_entropy(logits, targets)\n",
        "\n",
        "        return logits, loss\n",
        "\n",
        "    def generate(self, index, max_new_tokens):\n",
        "        for _ in range(max_new_tokens):\n",
        "            logits, loss = self.forward(index)\n",
        "            logits = logits[:, -1, :]\n",
        "            probs = F.softmax(logits, dim = -1)\n",
        "            index_next = torch.multinomial(probs, num_samples = 1)\n",
        "            index = torch.cat((index, index_next), dim = 1)\n",
        "\n",
        "        return index\n",
        "\n",
        "model = GPTLanguageModel(vocab_size)"
      ],
      "metadata": {
        "id": "RHRnAMA5O4w3"
      },
      "execution_count": 15,
      "outputs": []
    },
    {
      "cell_type": "code",
      "source": [
        "# optimizer\n",
        "\n",
        "model.to(device)\n",
        "optimizer = torch.optim.AdamW(model.parameters(), lr = learing_rate)\n",
        "\n",
        "for iter in range(max_iters):\n",
        "    if iter % eval_iters == 0 or iter == max_iters - 1:\n",
        "        losses = estimate_loss()\n",
        "        print(f\"step: {iter}, train loss: {losses['train']:.3f}, val loss: {losses['val']:.3f}\")\n",
        "\n",
        "    xb, yb = get_batch('train')\n",
        "\n",
        "    logits, loss = model.forward(xb, yb)\n",
        "    optimizer.zero_grad(set_to_none = True)\n",
        "    loss.backward()\n",
        "    optimizer.step()\n",
        "print(loss.item())"
      ],
      "metadata": {
        "colab": {
          "base_uri": "https://localhost:8080/"
        },
        "id": "7RMZ8awLP--9",
        "outputId": "e2cf6a21-53b5-474f-f9fc-ba6ed1d71593"
      },
      "execution_count": 7,
      "outputs": [
        {
          "output_type": "stream",
          "name": "stdout",
          "text": [
            "step: 0, train loss: 4.314, val loss: 4.313\n",
            "step: 100, train loss: 2.223, val loss: 2.245\n",
            "step: 200, train loss: 1.792, val loss: 1.842\n",
            "step: 300, train loss: 1.585, val loss: 1.662\n",
            "step: 400, train loss: 1.469, val loss: 1.572\n",
            "step: 500, train loss: 1.379, val loss: 1.495\n",
            "step: 600, train loss: 1.310, val loss: 1.457\n",
            "step: 700, train loss: 1.261, val loss: 1.406\n",
            "step: 800, train loss: 1.212, val loss: 1.396\n",
            "step: 900, train loss: 1.182, val loss: 1.385\n",
            "step: 1000, train loss: 1.148, val loss: 1.360\n",
            "step: 1100, train loss: 1.119, val loss: 1.358\n",
            "step: 1200, train loss: 1.091, val loss: 1.347\n",
            "step: 1300, train loss: 1.068, val loss: 1.346\n",
            "step: 1400, train loss: 1.041, val loss: 1.345\n",
            "step: 1500, train loss: 1.017, val loss: 1.347\n",
            "step: 1600, train loss: 0.992, val loss: 1.344\n",
            "step: 1700, train loss: 0.972, val loss: 1.339\n",
            "step: 1800, train loss: 0.948, val loss: 1.344\n",
            "step: 1900, train loss: 0.926, val loss: 1.344\n",
            "step: 2000, train loss: 0.907, val loss: 1.369\n",
            "step: 2100, train loss: 0.874, val loss: 1.355\n",
            "step: 2200, train loss: 0.858, val loss: 1.368\n",
            "step: 2300, train loss: 0.838, val loss: 1.379\n",
            "step: 2400, train loss: 0.816, val loss: 1.393\n",
            "step: 2500, train loss: 0.793, val loss: 1.398\n",
            "step: 2600, train loss: 0.774, val loss: 1.420\n",
            "step: 2700, train loss: 0.746, val loss: 1.427\n",
            "step: 2800, train loss: 0.731, val loss: 1.443\n",
            "step: 2900, train loss: 0.707, val loss: 1.459\n",
            "step: 2999, train loss: 0.687, val loss: 1.473\n",
            "0.8461094498634338\n"
          ]
        }
      ]
    },
    {
      "cell_type": "code",
      "source": [],
      "metadata": {
        "id": "k6dMxGbNEExW"
      },
      "execution_count": null,
      "outputs": []
    }
  ]
}